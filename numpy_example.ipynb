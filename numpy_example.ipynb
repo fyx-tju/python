{
 "cells": [
  {
   "cell_type": "markdown",
   "metadata": {},
   "source": [
    "# numpy的使用"
   ]
  },
  {
   "cell_type": "code",
   "execution_count": 1,
   "metadata": {},
   "outputs": [],
   "source": [
    "import numpy as np"
   ]
  },
  {
   "cell_type": "markdown",
   "metadata": {},
   "source": [
    "### 基本操作"
   ]
  },
  {
   "cell_type": "markdown",
   "metadata": {},
   "source": [
    "### 创建numpy数组"
   ]
  },
  {
   "cell_type": "code",
   "execution_count": 293,
   "metadata": {},
   "outputs": [
    {
     "name": "stdout",
     "output_type": "stream",
     "text": [
      "[[1 1 1]\n",
      " [1 1 1]]\n",
      "[[[ 0  1  2]\n",
      "  [ 3  4  5]]\n",
      "\n",
      " [[ 6  7  8]\n",
      "  [ 9 10 11]]]\n",
      "[[[0 0 0]\n",
      "  [0 0 0]]\n",
      "\n",
      " [[0 0 0]\n",
      "  [0 0 0]]]\n",
      "[[1. 0.]\n",
      " [0. 1.]]\n",
      "[-3.         -2.33333333 -1.66666667 -1.         -0.33333333  0.33333333\n",
      "  1.          1.66666667  2.33333333  3.        ]\n"
     ]
    }
   ],
   "source": [
    "a = np.ones((2,3),dtype=np.uint8)\n",
    "print(a)\n",
    "a = np.arange(12).reshape(2,2,3)\n",
    "print(a)\n",
    "b = np.zeros_like(a)\n",
    "print(b)\n",
    "b = np.eye(2)\n",
    "print(b)\n",
    "b = np.ones(2)\n",
    "b = np.full([2,2],10)\n",
    "b = np.linspace(-3, 3, 10)\n",
    "print(b)"
   ]
  },
  {
   "cell_type": "code",
   "execution_count": 201,
   "metadata": {},
   "outputs": [
    {
     "name": "stdout",
     "output_type": "stream",
     "text": [
      "[[10 10 10]\n",
      " [ 6  7  8]]\n",
      "[[[10 10 10]\n",
      "  [ 3  4  5]]\n",
      "\n",
      " [[ 6  7  8]\n",
      "  [ 9 10 11]]]\n",
      "(2, 2, 3)\n",
      "[[[9 9 9]\n",
      "  [3 4 5]]\n",
      "\n",
      " [[6 7 8]\n",
      "  [9 9 9]]]\n",
      "False\n",
      "True\n"
     ]
    }
   ],
   "source": [
    "b = a[:,0,:]\n",
    "print(b)\n",
    "b[0] = 10\n",
    "print(a)\n",
    "m = {10:100,2:200,3:10,4:1,5:12,6:11,7:12,8:10,9:20,11:19}\n",
    "b=np.vectorize(m.get)(a)\n",
    "np.vectorize(lambda x : x+1)(a.astype(np.int32))\n",
    "print(a.shape)\n",
    "c=np.clip(a,a_min=None,a_max=9)\n",
    "d=a.clip(min=5)\n",
    "print(c)\n",
    "e = a[:,0]\n",
    "print(e.flags['C_CONTIGUOUS'])\n",
    "ce = np.ascontiguousarray(e)\n",
    "print(ce.flags['C_CONTIGUOUS'])"
   ]
  },
  {
   "cell_type": "markdown",
   "metadata": {},
   "source": [
    "### numpy中flatten和ravel都能够把多维数组降为1维，但ravel返回视图，而flatten返回拷贝。"
   ]
  },
  {
   "cell_type": "code",
   "execution_count": 91,
   "metadata": {},
   "outputs": [
    {
     "name": "stdout",
     "output_type": "stream",
     "text": [
      "[[1. 0. 0.]\n",
      " [1. 0. 0.]\n",
      " [1. 0. 0.]\n",
      " [1. 0. 0.]\n",
      " [1. 0. 0.]\n",
      " [1. 0. 0.]\n",
      " [1. 0. 0.]\n",
      " [1. 0. 0.]\n",
      " [1. 0. 0.]\n",
      " [1. 0. 0.]]\n",
      "(30,)\n"
     ]
    },
    {
     "data": {
      "text/plain": [
       "array([1., 0., 0., 1., 0., 0., 1., 0., 0., 1., 0., 0., 1., 0., 0., 1., 0.,\n",
       "       0., 1., 0., 0., 1., 0., 0., 1., 0., 0., 1., 0., 0.])"
      ]
     },
     "execution_count": 91,
     "metadata": {},
     "output_type": "execute_result"
    }
   ],
   "source": [
    "a = np.arange(10)\n",
    "b = np.zeros((10,3))\n",
    "b.flat[a*3]=1\n",
    "print(b)\n",
    "c = b.flatten('F')\n",
    "print(c.shape)\n",
    "b.ravel()"
   ]
  },
  {
   "cell_type": "markdown",
   "metadata": {},
   "source": [
    "### 使用transpose和swapaxis对维度进行交换"
   ]
  },
  {
   "cell_type": "code",
   "execution_count": 30,
   "metadata": {},
   "outputs": [
    {
     "name": "stdout",
     "output_type": "stream",
     "text": [
      "[[[1]\n",
      "  [2]\n",
      "  [3]]\n",
      "\n",
      " [[4]\n",
      "  [5]\n",
      "  [6]]] (2, 3, 1)\n",
      "[[[1 2 3]\n",
      "  [4 5 6]]] (1, 2, 3)\n",
      "[[[1 2 3]\n",
      "  [4 5 6]]] (1, 2, 3)\n",
      "(1, 2, 3, 1)\n"
     ]
    }
   ],
   "source": [
    "a = np.array([[[1],[2],[3]],[[4],[5],[6]]])\n",
    "print(a,a.shape)\n",
    "b = a.swapaxes(1,2)\n",
    "c = b.swapaxes(0,1)\n",
    "print(c,c.shape)\n",
    "d = a.transpose([2,0,1])\n",
    "print(d,d.shape)\n",
    "##左侧增加一个维度\n",
    "e = a[None,]\n",
    "print(e.shape)"
   ]
  },
  {
   "cell_type": "markdown",
   "metadata": {},
   "source": [
    "### numpy随机相关"
   ]
  },
  {
   "cell_type": "code",
   "execution_count": 267,
   "metadata": {},
   "outputs": [
    {
     "name": "stdout",
     "output_type": "stream",
     "text": [
      "[[1 0 0]\n",
      " [1 0 0]]\n",
      "[[[0.53362341 0.79248762]\n",
      "  [0.9102427  0.91800439]]\n",
      "\n",
      " [[0.36915067 0.94053301]\n",
      "  [0.05072342 0.25886202]]]\n",
      "[[[0.53362341 0.79248762]\n",
      "  [0.9102427  0.91800439]]\n",
      "\n",
      " [[0.36915067 0.94053301]\n",
      "  [0.05072342 0.25886202]]]\n",
      "[4 2 1 0 3] [4 2 1 0 3]\n",
      "[[-0.60815234  0.40022439 -0.38392822  0.54797061 -0.78303625]\n",
      " [ 0.63504974  0.93547973  0.17042041 -0.98181055  0.76047301]]\n"
     ]
    }
   ],
   "source": [
    "a = np.random.randint(0,2,[2,3])\n",
    "print(a)\n",
    "##gaussian\n",
    "a = np.random.randn(2,2)\n",
    "a = 3 * np.random.randn(2,2) + 2\n",
    "a = np.random.standard_normal([2,2])\n",
    "## 0~1\n",
    "a = np.random.random_sample([2,2,2])\n",
    "print(a)\n",
    "np.random.shuffle(a)\n",
    "print(a)\n",
    "a = np.arange(5)\n",
    "b = np.arange(5)\n",
    "perm = np.arange(5)\n",
    "np.random.shuffle(perm)\n",
    "a = a[perm]\n",
    "b = b[perm]\n",
    "print(a,b)\n",
    "c = np.random.uniform(-1., 1., size=[2, 5])\n",
    "print(c)"
   ]
  },
  {
   "cell_type": "markdown",
   "metadata": {},
   "source": [
    "### 维度相关处理"
   ]
  },
  {
   "cell_type": "code",
   "execution_count": 288,
   "metadata": {},
   "outputs": [
    {
     "name": "stdout",
     "output_type": "stream",
     "text": [
      "(2, 3, 1)\n",
      "(1, 2, 3, 1)\n",
      "(2, 3)\n",
      "(2, 3, 8) (2, 3, 2, 4)\n",
      "[[[[-1]\n",
      "   [-2]\n",
      "   [ 0]]\n",
      "\n",
      "  [[-4]\n",
      "   [-5]\n",
      "   [-3]]]\n",
      "\n",
      "\n",
      " [[[ 2]\n",
      "   [ 3]\n",
      "   [ 1]]\n",
      "\n",
      "  [[ 5]\n",
      "   [ 6]\n",
      "   [ 4]]]]\n"
     ]
    }
   ],
   "source": [
    "a = np.array([[[1],[2],[3]],[[4],[5],[6]]])\n",
    "print(a.shape)\n",
    "print(a[None].shape)\n",
    "print(np.squeeze(a[None]).shape)\n",
    "a = np.expand_dims(a,0)\n",
    "a = np.append(1-a,a,axis=0)\n",
    "b = np.concatenate((np.arange(24).reshape([2,3,4]),np.arange(24).reshape([2,3,4])),axis=2)\n",
    "c = np.stack((np.arange(24).reshape([2,3,4]),np.arange(24).reshape([2,3,4])),axis=2)\n",
    "print(b.shape,c.shape)\n",
    "a = np.roll(a,2,axis=-2)\n",
    "print(a)"
   ]
  },
  {
   "cell_type": "markdown",
   "metadata": {},
   "source": [
    "### 使用roll进行某一维度移动"
   ]
  },
  {
   "cell_type": "code",
   "execution_count": 51,
   "metadata": {},
   "outputs": [
    {
     "name": "stdout",
     "output_type": "stream",
     "text": [
      "(1, 2, 3, 4)\n",
      "[[[[12 13 14 15]\n",
      "   [16 17 18 19]\n",
      "   [20 21 22 23]]\n",
      "\n",
      "  [[ 0  1  2  3]\n",
      "   [ 4  5  6  7]\n",
      "   [ 8  9 10 11]]]]\n",
      "(4, 1, 2, 3)\n",
      "(1, 3, 4, 2)\n"
     ]
    }
   ],
   "source": [
    "a = np.arange(24).reshape(1,2,3,4)\n",
    "print(a.shape)\n",
    "print(np.roll(a,1,axis=1))\n",
    "print(np.rollaxis(a,axis=3).shape)\n",
    "print(np.moveaxis(a,source=1,destination=3).shape)"
   ]
  },
  {
   "cell_type": "markdown",
   "metadata": {},
   "source": [
    "### 保存和读取numpy数组"
   ]
  }
 ],
 "metadata": {
  "kernelspec": {
   "display_name": "Python 3",
   "language": "python",
   "name": "python3"
  },
  "language_info": {
   "codemirror_mode": {
    "name": "ipython",
    "version": 3
   },
   "file_extension": ".py",
   "mimetype": "text/x-python",
   "name": "python",
   "nbconvert_exporter": "python",
   "pygments_lexer": "ipython3",
   "version": "3.6.4"
  }
 },
 "nbformat": 4,
 "nbformat_minor": 2
}
