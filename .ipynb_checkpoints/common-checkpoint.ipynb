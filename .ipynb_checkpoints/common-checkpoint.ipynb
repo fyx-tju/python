{
 "cells": [
  {
   "cell_type": "markdown",
   "metadata": {},
   "source": [
    "## 使用@property优雅地定义类属性\n",
    "在我们定义字段类的时候,往往需要对其中的类属性做一些限制,一般用get和set方法来写。使用@property可以优雅地定义属性，从而直接使用myclass.value来对字段操作。"
   ]
  },
  {
   "cell_type": "code",
   "execution_count": 241,
   "metadata": {},
   "outputs": [
    {
     "name": "stdout",
     "output_type": "stream",
     "text": [
      "myclass init!\n",
      "myclass init!\n",
      "myclass del\n",
      "my class 11 value:100.000000\n",
      "my class 11 value:20.000000\n",
      "10\n",
      "myclass del\n"
     ]
    },
    {
     "data": {
      "text/plain": [
       "'1,3.2'"
      ]
     },
     "execution_count": 241,
     "metadata": {},
     "output_type": "execute_result"
    }
   ],
   "source": [
    "class Myclass(object):\n",
    "    __private_t = 10\n",
    "    def __init__(self):\n",
    "        print(\"myclass init!\")\n",
    "    @property\n",
    "    def value(self):\n",
    "        return self._value\n",
    "    @value.setter\n",
    "    def value(self, value):\n",
    "        if not isinstance(value, int):\n",
    "            raise ValueError('分数必须是整数才行呐')\n",
    "        if value < 0 or value > 100:\n",
    "            raise ValueError('分数必须0-100之间')\n",
    "        self._value = value\n",
    "        self.__value__ = value\n",
    "    def __del__(self):\n",
    "        print(\"myclass del\")\n",
    "    def __repr__(self):\n",
    "        return \"my class %d value:%f\"%(self.__private_t,self._value)\n",
    "    def __len__(self):\n",
    "        return 10\n",
    "    def __cmp__(self,other):\n",
    "        return self._value - other.value\n",
    "    def add_t(self):\n",
    "        self.__private_t += 1\n",
    "        \n",
    "a = Myclass()\n",
    "a.value = 100\n",
    "a.add_t()\n",
    "b = Myclass()\n",
    "b.value = 20\n",
    "b.add_t()\n",
    "print(a)\n",
    "print(b)\n",
    "print(len(a))\n",
    "del a\n",
    "\"{},{}\".format(1,3.2)"
   ]
  },
  {
   "cell_type": "markdown",
   "metadata": {},
   "source": [
    "## 类成员变量\n",
    "python class中，直接定义在类中数组/集合，新建多个类的实例会共用这些数组。类的成员变量直接在\\__init\\__ 函数中使用self.a来定义。"
   ]
  },
  {
   "cell_type": "code",
   "execution_count": 227,
   "metadata": {},
   "outputs": [
    {
     "name": "stdout",
     "output_type": "stream",
     "text": [
      "myclass init!\n",
      "myclass init!\n",
      "[1] [1, 2] 20\n",
      "[2] [1, 2] 30\n"
     ]
    }
   ],
   "source": [
    "class myclass(object):\n",
    "    static_values = []\n",
    "    value = 10\n",
    "    def __init__(self):\n",
    "        print(\"myclass init!\")\n",
    "        self._values = []\n",
    "\n",
    "a = myclass()\n",
    "b = myclass()\n",
    "a.static_values.append(1)\n",
    "a._values.append(1)\n",
    "a.value = 20\n",
    "b.static_values.append(2)\n",
    "b._values.append(2)\n",
    "b.value = 30\n",
    "print(a._values,a.static_values,a.value)\n",
    "print(b._values,b.static_values,b.value)"
   ]
  },
  {
   "cell_type": "markdown",
   "metadata": {},
   "source": [
    "## 使用yield关键字构建迭代器"
   ]
  },
  {
   "cell_type": "code",
   "execution_count": null,
   "metadata": {},
   "outputs": [],
   "source": [
    "from itertools import *\n",
    "import numpy as np\n",
    "#for i in cycle(np.array([1,2])):\n",
    "#  print(i)\n",
    "def fun(num=2):\n",
    "  for i in range(num):\n",
    "    yield i\n",
    "for i in fun(2):\n",
    "  print(i)\n",
    "r = [1,4,5,6,4]\n",
    "r.sort()\n",
    "for i,j in (groupby(r)):\n",
    "  for k in j:\n",
    "    print(k)"
   ]
  },
  {
   "cell_type": "markdown",
   "metadata": {},
   "source": [
    "## Tar/Biz2文件解压\n",
    "- 使用shutil模块进行文件和文件夹的复制\n",
    "- 使用os.path的函数进行文件存在判断\n",
    "- 使用tarfile模块进行tar文件解压和压缩"
   ]
  },
  {
   "cell_type": "code",
   "execution_count": 119,
   "metadata": {},
   "outputs": [
    {
     "name": "stdout",
     "output_type": "stream",
     "text": [
      "/Users/fuyuxin/code/gitworkspace/python/data ['sample_copy', 'sample'] ['.DS_Store', 'sample.csv', 'output.csv', 'output.xlsx', 'sample.tar.bz2']\n",
      "/Users/fuyuxin/code/gitworkspace/python/data/sample_copy [] ['.DS_Store', 'sample.csv', 'output.csv', 'output.xlsx']\n",
      "/Users/fuyuxin/code/gitworkspace/python/data/sample [] ['.DS_Store', 'sample.csv', 'output.csv', 'output.xlsx']\n"
     ]
    }
   ],
   "source": [
    "#tar文件解压\n",
    "import os\n",
    "import tarfile\n",
    "import shutil\n",
    "import time\n",
    "\n",
    "base_path = \"/Users/fuyuxin/code/gitworkspace/python/data\"\n",
    "file = os.path.join(base_path , \"sample.csv\")\n",
    "tar_file = os.path.join(base_path, \"sample.tar.bz2\")\n",
    "os.chdir(base_path)\n",
    "tar = tarfile.open(tar_file,\"w:tar\")\n",
    "#tar = tarfile.open(tar_file,\"w:bz2\")\n",
    "for root,dir,files in os.walk(base_path):\n",
    "    print(root,dir,files)\n",
    "    for file in files:\n",
    "        tar.add(file)\n",
    "tar.close()"
   ]
  },
  {
   "cell_type": "code",
   "execution_count": 116,
   "metadata": {},
   "outputs": [],
   "source": [
    "extract_dir = os.path.join(base_path,\"sample\")\n",
    "if os.path.exists(extract_dir):\n",
    "    shutil.rmtree(extract_dir)\n",
    "if not os.path.exists(extract_dir):\n",
    "    os.mkdir(extract_dir)\n",
    "    tarfile.open(tar_file,'r:tar').extractall(extract_dir)\n",
    "tar = tarfile.open(tar_file,'r:tar')\n",
    "files = tar.getnames()\n",
    "for file in files:\n",
    "    tar.extract(file,extract_dir)\n",
    "tar.close()\n",
    "if not os.path.exists(extract_dir+\"_copy\"):\n",
    "    shutil.copytree(extract_dir,extract_dir+\"_copy\")"
   ]
  },
  {
   "cell_type": "markdown",
   "metadata": {},
   "source": [
    "## os相关操作"
   ]
  },
  {
   "cell_type": "code",
   "execution_count": 148,
   "metadata": {},
   "outputs": [
    {
     "name": "stdout",
     "output_type": "stream",
     "text": [
      "('/Users/fuyuxin/code/gitworkspace/python/data/sample.tar', '.bz2')\n",
      "current dir: /Users/fuyuxin/code/gitworkspace/python/data\n"
     ]
    }
   ],
   "source": [
    "base_path = \"/Users/fuyuxin/code/gitworkspace/python/data\"\n",
    "file = os.path.join(base_path , \"sample.csv\")\n",
    "tar_file = os.path.join(base_path, \"sample.tar.bz2\")\n",
    "print(os.path.splitext(tar_file))\n",
    "print(\"current dir: \" + os.getcwd())"
   ]
  },
  {
   "cell_type": "markdown",
   "metadata": {},
   "source": [
    "## Time 模块"
   ]
  },
  {
   "cell_type": "code",
   "execution_count": 146,
   "metadata": {},
   "outputs": [
    {
     "name": "stdout",
     "output_type": "stream",
     "text": [
      "time.struct_time(tm_year=2018, tm_mon=10, tm_mday=20, tm_hour=13, tm_min=46, tm_sec=33, tm_wday=5, tm_yday=293, tm_isdst=0)\n",
      "2018-10-20 Oct Saturday 13:46:33\n"
     ]
    }
   ],
   "source": [
    "base_path = \"/Users/fuyuxin/code/gitworkspace/python/data\"\n",
    "file = os.path.join(base_path , \"sample.csv\")\n",
    "tar_file = os.path.join(base_path, \"sample.tar.bz2\")\n",
    "statinfo = os.stat(tar_file)\n",
    "str_time = time.localtime(statinfo.st_ctime)\n",
    "print(str_time)\n",
    "print(time.strftime(\"%Y-%m-%d %h %A %H:%M:%S\",str_time))"
   ]
  },
  {
   "cell_type": "markdown",
   "metadata": {},
   "source": [
    "## 使用urllib模块进行文件下载"
   ]
  },
  {
   "cell_type": "code",
   "execution_count": 161,
   "metadata": {},
   "outputs": [
    {
     "name": "stdout",
     "output_type": "stream",
     "text": [
      "Succesfully downloaded t10k-labels-idx1-ubyte.gz 4542 bytes.\n"
     ]
    }
   ],
   "source": [
    "import urllib\n",
    "SOURCE_URL = 'http://yann.lecun.com/exdb/mnist/'\n",
    "filename = 't10k-labels-idx1-ubyte.gz'\n",
    "filepath, _ = urllib.request.urlretrieve(SOURCE_URL + filename, base_path + \"/\" + filename)\n",
    "statinfo = os.stat(filepath)\n",
    "print('Succesfully downloaded', filename, statinfo.st_size, 'bytes.')"
   ]
  }
 ],
 "metadata": {
  "kernelspec": {
   "display_name": "Python 3",
   "language": "python",
   "name": "python3"
  },
  "language_info": {
   "codemirror_mode": {
    "name": "ipython",
    "version": 3
   },
   "file_extension": ".py",
   "mimetype": "text/x-python",
   "name": "python",
   "nbconvert_exporter": "python",
   "pygments_lexer": "ipython3",
   "version": "3.6.4"
  }
 },
 "nbformat": 4,
 "nbformat_minor": 2
}
