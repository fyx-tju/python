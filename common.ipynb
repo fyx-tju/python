{
 "cells": [
  {
   "cell_type": "markdown",
   "metadata": {},
   "source": [
    "## 使用@property优雅地定义类属性\n",
    "在我们定义字段类的时候,往往需要对其中的类属性做一些限制,一般用get和set方法来写。使用@property可以优雅地定义属性，从而直接使用myclass.value来对字段操作。"
   ]
  },
  {
   "cell_type": "code",
   "execution_count": 399,
   "metadata": {},
   "outputs": [
    {
     "name": "stdout",
     "output_type": "stream",
     "text": [
      "myclass init!\n",
      "myclass init!\n",
      "myclass del\n",
      "my class 11 value:100.000000\n",
      "my class 11 value:20.000000\n",
      "10\n",
      "myclass del\n"
     ]
    },
    {
     "data": {
      "text/plain": [
       "'myclass call r!'"
      ]
     },
     "execution_count": 399,
     "metadata": {},
     "output_type": "execute_result"
    }
   ],
   "source": [
    "class Myclass(object):\n",
    "    __private_t = 10\n",
    "    def __init__(self):\n",
    "        print(\"myclass init!\")\n",
    "    @property\n",
    "    def value(self):\n",
    "        return self._value\n",
    "    @value.setter\n",
    "    def value(self, value):\n",
    "        if not isinstance(value, int):\n",
    "            raise ValueError('分数必须是整数才行呐')\n",
    "        if value < 0 or value > 100:\n",
    "            raise ValueError('分数必须0-100之间')\n",
    "        self._value = value\n",
    "        self.__value__ = value\n",
    "    def __del__(self):\n",
    "        print(\"myclass del\")\n",
    "    def __repr__(self):\n",
    "        return \"my class %d value:%f\"%(self.__private_t,self._value)\n",
    "    def __len__(self):\n",
    "        return 10\n",
    "    def __cmp__(self,other):\n",
    "        return self._value - other.value\n",
    "    def add_t(self):\n",
    "        self.__private_t += 1\n",
    "    def __call__(self,it):\n",
    "        return \"myclass call {}!\".format(it)\n",
    "a = Myclass()\n",
    "a.value = 100\n",
    "a.add_t()\n",
    "b = Myclass()\n",
    "b.value = 20\n",
    "b.add_t()\n",
    "print(a)\n",
    "print(b)\n",
    "print(len(a))\n",
    "del a\n",
    "\"{},{}\".format(1,3.2)\n",
    "b(\"r\")"
   ]
  },
  {
   "cell_type": "markdown",
   "metadata": {},
   "source": [
    "## 类成员变量\n",
    "python class中，直接定义在类中数组/集合，新建多个类的实例会共用这些数组。类的成员变量直接在\\__init\\__ 函数中使用self.a来定义。"
   ]
  },
  {
   "cell_type": "code",
   "execution_count": 227,
   "metadata": {},
   "outputs": [
    {
     "name": "stdout",
     "output_type": "stream",
     "text": [
      "myclass init!\n",
      "myclass init!\n",
      "[1] [1, 2] 20\n",
      "[2] [1, 2] 30\n"
     ]
    }
   ],
   "source": [
    "class myclass(object):\n",
    "    static_values = []\n",
    "    value = 10\n",
    "    def __init__(self):\n",
    "        print(\"myclass init!\")\n",
    "        self._values = []\n",
    "\n",
    "a = myclass()\n",
    "b = myclass()\n",
    "a.static_values.append(1)\n",
    "a._values.append(1)\n",
    "a.value = 20\n",
    "b.static_values.append(2)\n",
    "b._values.append(2)\n",
    "b.value = 30\n",
    "print(a._values,a.static_values,a.value)\n",
    "print(b._values,b.static_values,b.value)"
   ]
  },
  {
   "cell_type": "markdown",
   "metadata": {},
   "source": [
    "## 使用yield关键字构建迭代器"
   ]
  },
  {
   "cell_type": "code",
   "execution_count": null,
   "metadata": {},
   "outputs": [],
   "source": [
    "from itertools import *\n",
    "import numpy as np\n",
    "#for i in cycle(np.array([1,2])):\n",
    "#  print(i)\n",
    "def fun(num=2):\n",
    "  for i in range(num):\n",
    "    yield i\n",
    "for i in fun(2):\n",
    "  print(i)\n",
    "r = [1,4,5,6,4]\n",
    "r.sort()\n",
    "for i,j in (groupby(r)):\n",
    "  for k in j:\n",
    "    print(k)"
   ]
  },
  {
   "cell_type": "markdown",
   "metadata": {},
   "source": [
    "## Tar/Biz2文件解压\n",
    "- 使用shutil模块进行文件和文件夹的复制\n",
    "- 使用os.path的函数进行文件存在判断\n",
    "- 使用tarfile模块进行tar文件解压和压缩"
   ]
  },
  {
   "cell_type": "code",
   "execution_count": 119,
   "metadata": {},
   "outputs": [
    {
     "name": "stdout",
     "output_type": "stream",
     "text": [
      "/Users/fuyuxin/code/gitworkspace/python/data ['sample_copy', 'sample'] ['.DS_Store', 'sample.csv', 'output.csv', 'output.xlsx', 'sample.tar.bz2']\n",
      "/Users/fuyuxin/code/gitworkspace/python/data/sample_copy [] ['.DS_Store', 'sample.csv', 'output.csv', 'output.xlsx']\n",
      "/Users/fuyuxin/code/gitworkspace/python/data/sample [] ['.DS_Store', 'sample.csv', 'output.csv', 'output.xlsx']\n"
     ]
    }
   ],
   "source": [
    "#tar文件解压\n",
    "import os\n",
    "import tarfile\n",
    "import shutil\n",
    "import time\n",
    "\n",
    "base_path = \"/Users/fuyuxin/code/gitworkspace/python/data\"\n",
    "file = os.path.join(base_path , \"sample.csv\")\n",
    "tar_file = os.path.join(base_path, \"sample.tar.bz2\")\n",
    "os.chdir(base_path)\n",
    "tar = tarfile.open(tar_file,\"w:tar\")\n",
    "#tar = tarfile.open(tar_file,\"w:bz2\")\n",
    "for root,dir,files in os.walk(base_path):\n",
    "    print(root,dir,files)\n",
    "    for file in files:\n",
    "        tar.add(file)\n",
    "tar.close()"
   ]
  },
  {
   "cell_type": "code",
   "execution_count": 116,
   "metadata": {},
   "outputs": [],
   "source": [
    "extract_dir = os.path.join(base_path,\"sample\")\n",
    "if os.path.exists(extract_dir):\n",
    "    shutil.rmtree(extract_dir)\n",
    "if not os.path.exists(extract_dir):\n",
    "    os.mkdir(extract_dir)\n",
    "    tarfile.open(tar_file,'r:tar').extractall(extract_dir)\n",
    "tar = tarfile.open(tar_file,'r:tar')\n",
    "files = tar.getnames()\n",
    "for file in files:\n",
    "    tar.extract(file,extract_dir)\n",
    "tar.close()\n",
    "if not os.path.exists(extract_dir+\"_copy\"):\n",
    "    shutil.copytree(extract_dir,extract_dir+\"_copy\")"
   ]
  },
  {
   "cell_type": "markdown",
   "metadata": {},
   "source": [
    "## 使用zipfile解压zip文件和读取"
   ]
  },
  {
   "cell_type": "code",
   "execution_count": 376,
   "metadata": {},
   "outputs": [],
   "source": [
    "import zipfile\n",
    "def readzip(data_path):\n",
    "    with zipfile.ZipFile(data_path) as f:\n",
    "        text_words = f.read(f.namelist()[0]).lower().split()\n",
    "base_path = \"/Users/fuyuxin/code/gitworkspace/python/data\"\n",
    "file = os.path.join(base_path , \"sample.zip\")"
   ]
  },
  {
   "cell_type": "markdown",
   "metadata": {},
   "source": [
    "## os相关操作"
   ]
  },
  {
   "cell_type": "code",
   "execution_count": 401,
   "metadata": {},
   "outputs": [
    {
     "name": "stdout",
     "output_type": "stream",
     "text": [
      "('/Users/fuyuxin/code/gitworkspace/python/data/sample.tar', '.bz2')\n",
      "current dir: /Users/fuyuxin/code/gitworkspace/python/data\n"
     ]
    }
   ],
   "source": [
    "base_path = \"/Users/fuyuxin/code/gitworkspace/python/data\"\n",
    "file = os.path.join(base_path , \"sample.csv\")\n",
    "tar_file = os.path.join(base_path, \"sample.tar.bz2\")\n",
    "print(os.path.splitext(tar_file))\n",
    "print(\"current dir: \" + os.getcwd())\n",
    "os.environ['tmp_var'] = \"tmp_var\""
   ]
  },
  {
   "cell_type": "markdown",
   "metadata": {},
   "source": [
    "## 字符串格式相关"
   ]
  },
  {
   "cell_type": "code",
   "execution_count": 20,
   "metadata": {},
   "outputs": [
    {
     "name": "stdout",
     "output_type": "stream",
     "text": [
      "X: 3;  Y: 5\n",
      "a, b, a\n",
      "Coordinates: 37.24N, -115.81W\n",
      "1,234,567,890\n",
      "Epoch: 0011 cost= 20.1235\n",
      "Correct answers: 49.69%\n",
      "b'input\\n'\n",
      "input\\n\n",
      "input\n",
      "\n"
     ]
    }
   ],
   "source": [
    "coord = (3, 5)\n",
    "print('X: {0[0]};  Y: {0[1]}'.format(coord))\n",
    "print('{0}, {1}, {0}'.format(*'abc'))\n",
    "print('Coordinates: {latitude}, {longitude}'.format(latitude='37.24N', longitude='-115.81W'))\n",
    "print('{:,}'.format(1234567890))\n",
    "points = 10\n",
    "total = 20.12345678912345\n",
    "print(\"Epoch:\", '%04d' % (points+1), \"cost=\", \"{:.4f}\".format(total))\n",
    "print('Correct answers: {:.2%}'.format(points/total))\n",
    "print(b'input\\n') # bytes字节符，打印以b开头\n",
    "print(r'input\\n') # 非转义原生字符，经处理'\\n'变成了'\\\\'和'n'。也就是\\n表示的是两个字符，而不是换行。\n",
    "print(u'input\\n') # unicode编码字符，python3默认字符串编码方式。"
   ]
  },
  {
   "cell_type": "markdown",
   "metadata": {},
   "source": [
    "## str与bytes转换"
   ]
  },
  {
   "cell_type": "code",
   "execution_count": 393,
   "metadata": {},
   "outputs": [
    {
     "name": "stdout",
     "output_type": "stream",
     "text": [
      "b'\\xe2\\x82\\xac20'\n",
      "€20\n",
      "b'123'\n",
      "b'123'\n",
      "123\n",
      "123\n"
     ]
    }
   ],
   "source": [
    "print('€20'.encode('utf-8'))\n",
    "print(b'\\xe2\\x82\\xac20'.decode('utf-8'))\n",
    "print(bytes('123', encoding='utf8'))\n",
    "print(str.encode('123'))\n",
    "print(str(b'123', encoding='utf-8'))\n",
    "print(bytes.decode(b'123'))"
   ]
  },
  {
   "cell_type": "markdown",
   "metadata": {},
   "source": [
    "## random模块"
   ]
  },
  {
   "cell_type": "code",
   "execution_count": 498,
   "metadata": {},
   "outputs": [
    {
     "name": "stdout",
     "output_type": "stream",
     "text": [
      "0.9953324064198675\n",
      "1\n",
      "7\n",
      "0.9351030330913408\n",
      "[3, 4, 2, 1]\n",
      "3.1127102611213955\n"
     ]
    }
   ],
   "source": [
    "import random\n",
    "print(random.random())\n",
    "print(random.randint(1,2))\n",
    "print(random.randrange(1,10,2))\n",
    "print(random.gauss(1,1))\n",
    "a=[1,2,3,4]\n",
    "random.shuffle(a)\n",
    "print(a)\n",
    "print(random.uniform(1,10))"
   ]
  },
  {
   "cell_type": "markdown",
   "metadata": {},
   "source": [
    "## Time 模块"
   ]
  },
  {
   "cell_type": "code",
   "execution_count": 383,
   "metadata": {},
   "outputs": [
    {
     "name": "stdout",
     "output_type": "stream",
     "text": [
      "time.struct_time(tm_year=2018, tm_mon=10, tm_mday=20, tm_hour=13, tm_min=46, tm_sec=33, tm_wday=5, tm_yday=293, tm_isdst=0)\n",
      "2018-10-20 Oct Saturday 13:46:33\n",
      "now done in 1.00 s\n"
     ]
    }
   ],
   "source": [
    "base_path = \"/Users/fuyuxin/code/gitworkspace/python/data\"\n",
    "file = os.path.join(base_path , \"sample.csv\")\n",
    "tar_file = os.path.join(base_path, \"sample.tar.bz2\")\n",
    "statinfo = os.stat(tar_file)\n",
    "str_time = time.localtime(statinfo.st_ctime)\n",
    "print(str_time)\n",
    "print(time.strftime(\"%Y-%m-%d %h %A %H:%M:%S\",str_time))\n",
    "t = time.time()\n",
    "time.sleep(1)\n",
    "name = \"now\"\n",
    "print(f'{name} done in {time.time() - t:.2f} s') "
   ]
  },
  {
   "cell_type": "markdown",
   "metadata": {},
   "source": [
    "## 使用urllib模块进行文件下载"
   ]
  },
  {
   "cell_type": "code",
   "execution_count": 161,
   "metadata": {},
   "outputs": [
    {
     "name": "stdout",
     "output_type": "stream",
     "text": [
      "Succesfully downloaded t10k-labels-idx1-ubyte.gz 4542 bytes.\n"
     ]
    }
   ],
   "source": [
    "import urllib\n",
    "SOURCE_URL = 'http://yann.lecun.com/exdb/mnist/'\n",
    "filename = 't10k-labels-idx1-ubyte.gz'\n",
    "filepath, _ = urllib.request.urlretrieve(SOURCE_URL + filename, base_path + \"/\" + filename)\n",
    "statinfo = os.stat(filepath)\n",
    "print('Succesfully downloaded', filename, statinfo.st_size, 'bytes.')"
   ]
  },
  {
   "cell_type": "markdown",
   "metadata": {},
   "source": [
    "## collection库的使用"
   ]
  },
  {
   "cell_type": "markdown",
   "metadata": {},
   "source": [
    "#### 使用counter进行计数，counter是dict的子类"
   ]
  },
  {
   "cell_type": "code",
   "execution_count": 352,
   "metadata": {},
   "outputs": [
    {
     "name": "stdout",
     "output_type": "stream",
     "text": [
      "[(2, 3), (3, 2)]\n",
      "3\n",
      "(4, 1)\n",
      "Counter({3: 2, 1: 1})\n"
     ]
    }
   ],
   "source": [
    "import collections\n",
    "a = [1,2,3,4,2,3,2]\n",
    "counter = collections.Counter(a)\n",
    "print(counter.most_common(2))\n",
    "print(counter.pop(2))\n",
    "print(counter.popitem())\n",
    "print(counter)"
   ]
  },
  {
   "cell_type": "markdown",
   "metadata": {},
   "source": [
    "#### 使用namedtuple定义带有名字的元组"
   ]
  },
  {
   "cell_type": "code",
   "execution_count": 267,
   "metadata": {},
   "outputs": [
    {
     "data": {
      "text/plain": [
       "(1, 2)"
      ]
     },
     "execution_count": 267,
     "metadata": {},
     "output_type": "execute_result"
    }
   ],
   "source": [
    "Point = collections.namedtuple('Point', ['x', 'y'])\n",
    "p = Point(1,2)\n",
    "(p.x,p.y)"
   ]
  },
  {
   "cell_type": "markdown",
   "metadata": {},
   "source": [
    "#### deque是为了高效实现插入和删除操作的双向列表，适合用于队列和栈"
   ]
  },
  {
   "cell_type": "code",
   "execution_count": 270,
   "metadata": {},
   "outputs": [
    {
     "name": "stdout",
     "output_type": "stream",
     "text": [
      "deque([1, 2, 3, 4, 5])\n",
      "deque([0, 1, 2, 3, 4, 5, 6])\n",
      "deque([1, 2, 3, 4, 5])\n"
     ]
    }
   ],
   "source": [
    "a=collections.deque([1,2,3,4,5])\n",
    "print(a)\n",
    "a.appendleft(0)\n",
    "a.append(6)\n",
    "print(a)\n",
    "a.pop()\n",
    "a.popleft()\n",
    "print(a)"
   ]
  },
  {
   "cell_type": "markdown",
   "metadata": {},
   "source": [
    "#### 使用dict时，如果引用的Key不存在，就会抛出KeyError。如果希望key不存在时，返回一个默认值，就可以用defaultdict"
   ]
  },
  {
   "cell_type": "code",
   "execution_count": 368,
   "metadata": {},
   "outputs": [
    {
     "name": "stdout",
     "output_type": "stream",
     "text": [
      "abc\n",
      "1\n",
      "2\n",
      "3\n",
      "1\n",
      "1\n",
      "None\n",
      "0\n"
     ]
    }
   ],
   "source": [
    "from collections import defaultdict\n",
    "i=0\n",
    "def fun():\n",
    "    global i\n",
    "    i+=1\n",
    "    return i\n",
    "a = defaultdict(fun)\n",
    "a['key1'] = 'abc'\n",
    "b = dict(zip(['key3','key4'],[1,2]))\n",
    "b['key1'] = 'a'\n",
    "print(a['key1']) # key1存在\n",
    "print(a['key2']) # key2不存在，返回默认值\n",
    "print(a['key3'])\n",
    "print(a['key4'])\n",
    "print(a['key2'])\n",
    "print(b.get('key3'))\n",
    "print(b.get('key2'))\n",
    "print(b.get('key2',0))"
   ]
  },
  {
   "cell_type": "markdown",
   "metadata": {},
   "source": [
    "#### 使用dict时，Key是无序的。在对dict做迭代时，我们无法确定Key的顺序。如果要保持Key的顺序，可以用OrderedDict。注意:OrderedDict的Key会按照插入的顺序排列，不是Key本身排序。"
   ]
  },
  {
   "cell_type": "code",
   "execution_count": 330,
   "metadata": {},
   "outputs": [
    {
     "name": "stdout",
     "output_type": "stream",
     "text": [
      "{'a': 1, 'c': 2, 'b': 3}\n",
      "OrderedDict([('a', 1), ('c', 2), ('b', 3)])\n",
      "True\n"
     ]
    }
   ],
   "source": [
    "from collections import OrderedDict\n",
    "d = dict([('a', 1), ('c', 2), ('b', 3)])\n",
    "print(d)\n",
    "od = OrderedDict([('a', 1), ('c', 2), ('b', 3)])\n",
    "# OrderedDict的Key是有序的\n",
    "print(od)\n",
    "print('a' in od)"
   ]
  },
  {
   "cell_type": "markdown",
   "metadata": {},
   "source": [
    "#### OrderedDict可以实现一个FIFO（先进先出）的dict，当容量超出限制时，先删除最早添加的Key"
   ]
  },
  {
   "cell_type": "code",
   "execution_count": 369,
   "metadata": {},
   "outputs": [
    {
     "name": "stdout",
     "output_type": "stream",
     "text": [
      "add: (1, 2)\n",
      "add: (2, 3)\n",
      "remove: (1, 2)\n",
      "add: (4, 5)\n"
     ]
    },
    {
     "data": {
      "text/plain": [
       "LastUpdatedOrderedDict([(2, 3), (4, 5)])"
      ]
     },
     "execution_count": 369,
     "metadata": {},
     "output_type": "execute_result"
    }
   ],
   "source": [
    "from collections import OrderedDict\n",
    "\n",
    "class LastUpdatedOrderedDict(OrderedDict):\n",
    "\n",
    "    def __init__(self, capacity):\n",
    "        super(LastUpdatedOrderedDict, self).__init__()\n",
    "        self._capacity = capacity\n",
    "\n",
    "    def __setitem__(self, key, value):\n",
    "        containsKey = 1 if key in self else 0\n",
    "        if len(self) - containsKey >= self._capacity:\n",
    "            last = self.popitem(last=False)\n",
    "            print('remove:', last)\n",
    "        if containsKey:\n",
    "            del self[key]\n",
    "            print('set:', (key, value))\n",
    "        else:\n",
    "            print('add:', (key, value))\n",
    "        OrderedDict.__setitem__(self, key, value)\n",
    "    \n",
    "fifo_dict = LastUpdatedOrderedDict(2)\n",
    "fifo_dict[1] = 2\n",
    "fifo_dict[2] = 3\n",
    "fifo_dict[4] = 5\n",
    "fifo_dict"
   ]
  },
  {
   "cell_type": "markdown",
   "metadata": {},
   "source": [
    "## 装饰器"
   ]
  },
  {
   "cell_type": "code",
   "execution_count": 41,
   "metadata": {},
   "outputs": [
    {
     "name": "stdout",
     "output_type": "stream",
     "text": [
      "start\n",
      "inner\n",
      "1\n"
     ]
    }
   ],
   "source": [
    "def test(param):\n",
    "    def out(fun):\n",
    "        def inner(*kargs,**kwarg):\n",
    "            print(\"inner\")\n",
    "            fun(kargs[0])\n",
    "        print(\"start\")\n",
    "        if param == \"shit\":\n",
    "            return inner\n",
    "        else:\n",
    "            return inner\n",
    "    return out\n",
    "\n",
    "@test(\"shit2\")\n",
    "def fun(param):\n",
    "    print(param)\n",
    "fun(1)"
   ]
  }
 ],
 "metadata": {
  "kernelspec": {
   "display_name": "Python 3",
   "language": "python",
   "name": "python3"
  },
  "language_info": {
   "codemirror_mode": {
    "name": "ipython",
    "version": 3
   },
   "file_extension": ".py",
   "mimetype": "text/x-python",
   "name": "python",
   "nbconvert_exporter": "python",
   "pygments_lexer": "ipython3",
   "version": "3.6.4"
  }
 },
 "nbformat": 4,
 "nbformat_minor": 2
}
